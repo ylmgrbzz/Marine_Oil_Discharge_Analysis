{
  "nbformat": 4,
  "nbformat_minor": 0,
  "metadata": {
    "colab": {
      "provenance": []
    },
    "kernelspec": {
      "name": "python3",
      "display_name": "Python 3"
    },
    "language_info": {
      "name": "python"
    }
  },
  "cells": [
    {
      "cell_type": "code",
      "execution_count": 2,
      "metadata": {
        "colab": {
          "base_uri": "https://localhost:8080/"
        },
        "id": "2IdGYTltem_m",
        "outputId": "f5d8d1fd-a998-4e7c-d271-2bb8e04e7fc3"
      },
      "outputs": [
        {
          "output_type": "stream",
          "name": "stdout",
          "text": [
            "The ship is in a safe zone.\n"
          ]
        }
      ],
      "source": [
        "import pandas as pd\n",
        "from shapely.geometry import Point, Polygon\n",
        "\n",
        "def create_no_go_zones(df):\n",
        "    \"\"\"\n",
        "    Creates a dictionary of no-go zones as polygons from the dataframe.\n",
        "\n",
        "    :param df: DataFrame with no-go area boundary points\n",
        "    :return: Dictionary of no-go zones with polygons\n",
        "    \"\"\"\n",
        "    # Initialize an empty dictionary to store no-go zones\n",
        "    no_go_zones = {}\n",
        "\n",
        "    # Iterate over unique OBJECTIDs in the dataframe\n",
        "    for zone_id in df['OBJECTID'].unique():\n",
        "        # Extract points for the current zone based on OBJECTID\n",
        "        zone_points = df[df['OBJECTID'] == zone_id][['x', 'y']].values\n",
        "        # Create a polygon from the extracted points\n",
        "        no_go_zones[zone_id] = Polygon(zone_points)\n",
        "\n",
        "    return no_go_zones\n",
        "\n",
        "def is_in_no_go_zone(lat, lon, no_go_zones):\n",
        "    \"\"\"\n",
        "    Determines if a given latitude and longitude is within any no-go zone.\n",
        "\n",
        "    :param lat: Latitude of the ship's current position\n",
        "    :param lon: Longitude of the ship's current position\n",
        "    :param no_go_zones: Dictionary of no-go zones as polygons\n",
        "    :return: Boolean indicating if in a no-go zone, and the ID of the zone if true\n",
        "    \"\"\"\n",
        "    # Create a Point object representing the ship's current position\n",
        "    point = Point(lon, lat)\n",
        "\n",
        "    # Iterate over the dictionary of no-go zones\n",
        "    for zone_id, zone in no_go_zones.items():\n",
        "        # Check if the ship's position is within the current no-go zone\n",
        "        if zone.contains(point):\n",
        "            # Return True and the ID of the zone if inside a no-go zone\n",
        "            return True, zone_id\n",
        "\n",
        "    # Return False and None if not inside any no-go zone\n",
        "    return False, None\n",
        "\n",
        "# Read the CSV file\n",
        "file_path = 'veri.csv'  # Replace with the path to your CSV file\n",
        "no_go_areas_df = pd.read_csv(file_path)\n",
        "\n",
        "# Create no-go zones\n",
        "no_go_zones = create_no_go_zones(no_go_areas_df)\n",
        "\n",
        "# Example usage\n",
        "# Replace these with the ship's actual GPS coordinates\n",
        "current_lat = 0  # Example latitude\n",
        "current_lon = 0  # Example longitude\n",
        "\n",
        "# Check if the ship is in a no-go zone\n",
        "in_no_go_zone, zone_id = is_in_no_go_zone(current_lat, current_lon, no_go_zones)\n",
        "\n",
        "# Provide a warning if the ship is in a no-go zone\n",
        "if in_no_go_zone:\n",
        "    print(f\"The ship is in a no-go zone! Zone ID: {zone_id}\")\n",
        "else:\n",
        "    print(\"The ship is in a safe zone.\")\n"
      ]
    },
    {
      "cell_type": "code",
      "source": [
        "def enter_manual_inputs():\n",
        "    \"\"\"\n",
        "    Function to collect manual inputs required for the ODME operation.\n",
        "    \"\"\"\n",
        "    # Create an empty dictionary to store user inputs\n",
        "    inputs = {}\n",
        "\n",
        "    # Collect user input for the duration of the last oily water transfer to the slop tank\n",
        "    inputs['last_oily_water_transfer'] = float(input(\"Enter the duration of the last oily water transfer to the slop tank (in hours): \"))\n",
        "\n",
        "    # Check if the company was informed one day before the operation\n",
        "    inputs['company_informed'] = input(\"Was the company informed one day before the operation (yes/no)? \").lower() == 'yes'\n",
        "\n",
        "    # Check if at least 24 hours were waited for the settlement of the oily mixture\n",
        "    inputs['wait_24hrs_settlement'] = input(\"Waited at least 24 hours for the settlement of the oily mixture (yes/no)? \").lower() == 'yes'\n",
        "\n",
        "    # Check if the current wind speed is less than 5 on the Beaufort scale\n",
        "    inputs['wind_speed'] = float(input(\"Enter the current wind speed (Beaufort scale): \")) < 5\n",
        "\n",
        "    # Check if the current sea height is less than 4 on the Beaufort scale\n",
        "    inputs['sea_height'] = float(input(\"Enter the current sea height (Beaufort scale): \")) < 4\n",
        "\n",
        "    # Check if the current swell height is less than 4 on the Beaufort scale\n",
        "    inputs['swell_height'] = float(input(\"Enter the current swell height (Beaufort scale): \")) < 4\n",
        "\n",
        "    # Check if the current ship rolling degree is less than 5\n",
        "    inputs['ship_rolling'] = float(input(\"Enter the current ship rolling degree: \")) < 5\n",
        "\n",
        "    # Collect the initial quantity of the oily mixture\n",
        "    inputs['initial_quantity_oily_mixture'] = float(input(\"Enter the initial quantity of the oily mixture: \"))\n",
        "\n",
        "    # Collect the initial quantity of oil\n",
        "    inputs['initial_quantity_oil'] = float(input(\"Enter the initial quantity of oil: \"))\n",
        "\n",
        "    # Collect the total cargo carried\n",
        "    inputs['total_cargo_carried'] = float(input(\"Enter the total cargo carried: \"))\n",
        "\n",
        "    # Check if the ODME self-test was carried out satisfactorily\n",
        "    inputs['odme_self_test'] = input(\"Was the ODME self-test carried out satisfactorily (yes/no)? \").lower() == 'yes'\n",
        "\n",
        "    # Check if the ODME zero calibration test was carried out satisfactorily\n",
        "    inputs['odme_zero_calibration_test'] = input(\"Was the ODME zero calibration test carried out satisfactorily (yes/no)? \").lower() == 'yes'\n",
        "\n",
        "    # Check if the total oil limit should be reset to zero (allowed only once for each operation)\n",
        "    inputs['reset_total_oil_limit'] = input(\"Reset the total oil limit to zero. Only one time is allowed for each operation (yes/no)? \").lower() == 'yes'\n",
        "\n",
        "    # Collect the oil type from the maker's manual\n",
        "    inputs['oil_type'] = input(\"Enter the oil type from the maker's manual: \")\n",
        "\n",
        "    return inputs\n",
        "\n",
        "# Load the CSV file\n",
        "file_path = 'veri.csv'  # Replace with your CSV file path\n",
        "no_go_areas_df = pd.read_csv(file_path)\n",
        "\n",
        "# Create no-go zones\n",
        "no_go_zones = create_no_go_zones(no_go_areas_df)\n",
        "\n",
        "# Collect manual inputs\n",
        "manual_inputs = enter_manual_inputs()\n",
        "\n",
        "# Check if the ship is in a no-go zone (use real-time GPS coordinates)\n",
        "# current_lat = 0  # Replace with real latitude\n",
        "# current_lon = 0  # Replace with real longitude\n",
        "# in_no_go_zone, zone_id = is_in_no_go_zone(current_lat, current_lon, no_go_zones)\n",
        "# print(in_no_go_zone, zone_id)\n"
      ],
      "metadata": {
        "colab": {
          "base_uri": "https://localhost:8080/"
        },
        "id": "hJ0R8l_xfJVr",
        "outputId": "b0f8009e-8c06-4a57-85c5-81c1ee9db76d"
      },
      "execution_count": 3,
      "outputs": [
        {
          "name": "stdout",
          "output_type": "stream",
          "text": [
            "Enter the duration of the last oily water transfer to the slop tank (in hours): 35\n",
            "Was the company informed one day before the operation (yes/no)? 35\n",
            "Waited at least 24 hours for the settlement of the oily mixture (yes/no)? yes\n",
            "Enter the current wind speed (Beaufort scale): 35\n",
            "Enter the current sea height (Beaufort scale): 35\n",
            "Enter the current swell height (Beaufort scale): 35\n",
            "Enter the current ship rolling degree: 35\n",
            "Enter the initial quantity of the oily mixture: 35\n",
            "Enter the initial quantity of oil: 35\n",
            "Enter the total cargo carried: 35\n",
            "Was the ODME self-test carried out satisfactorily (yes/no)? yes\n",
            "Was the ODME zero calibration test carried out satisfactorily (yes/no)? yes\n",
            "Reset the total oil limit to zero. Only one time is allowed for each operation (yes/no)? yes\n",
            "Enter the oil type from the maker's manual: 35\n"
          ]
        }
      ]
    },
    {
      "cell_type": "code",
      "source": [
        "pip install ephem\n"
      ],
      "metadata": {
        "colab": {
          "base_uri": "https://localhost:8080/"
        },
        "id": "bQxSZhoTfent",
        "outputId": "6d26bea7-d5b6-4a27-d050-4038d3a5d173"
      },
      "execution_count": 4,
      "outputs": [
        {
          "output_type": "stream",
          "name": "stdout",
          "text": [
            "Collecting ephem\n",
            "  Downloading ephem-4.1.5-cp310-cp310-manylinux_2_17_x86_64.manylinux2014_x86_64.whl (1.8 MB)\n",
            "\u001b[2K     \u001b[90m━━━━━━━━━━━━━━━━━━━━━━━━━━━━━━━━━━━━━━━━\u001b[0m \u001b[32m1.8/1.8 MB\u001b[0m \u001b[31m11.4 MB/s\u001b[0m eta \u001b[36m0:00:00\u001b[0m\n",
            "\u001b[?25hInstalling collected packages: ephem\n",
            "Successfully installed ephem-4.1.5\n"
          ]
        }
      ]
    },
    {
      "cell_type": "code",
      "source": [
        "import ephem\n",
        "from datetime import datetime\n",
        "\n",
        "def calculate_sunrise_sunset(lat, lon, utc_offset):\n",
        "    \"\"\"\n",
        "    Calculates sunrise and sunset times based on GPS position and UTC offset.\n",
        "\n",
        "    :param lat: Latitude of the ship's current position\n",
        "    :param lon: Longitude of the ship's current position\n",
        "    :param utc_offset: UTC offset of the ship's location in hours\n",
        "    :return: Tuple containing sunrise and sunset times as datetime objects\n",
        "    \"\"\"\n",
        "    # Create an observer object for ephem module\n",
        "    observer = ephem.Observer()\n",
        "    observer.lat = str(lat)\n",
        "    observer.lon = str(lon)\n",
        "    observer.elevation = 0  # Sea level\n",
        "    observer.date = datetime.utcnow()\n",
        "\n",
        "    # Apply UTC offset to the observer's date\n",
        "    observer.date += ephem.hours(utc_offset)\n",
        "\n",
        "    # Calculate sunrise and sunset using ephem module\n",
        "    sunrise = observer.previous_rising(ephem.Sun())\n",
        "    sunset = observer.next_setting(ephem.Sun())\n",
        "\n",
        "    # Convert sunrise and sunset times to datetime objects\n",
        "    return sunrise.datetime(), sunset.datetime()\n",
        "\n",
        "# Replace these values with the ship's real-time GPS coordinates\n",
        "current_lat = 0  # Example latitude\n",
        "current_lon = 0  # Example longitude\n",
        "\n",
        "# Check if the ship is in a no-go zone using real-time GPS coordinates\n",
        "in_no_go_zone, zone_id = is_in_no_go_zone(current_lat, current_lon, no_go_zones)\n",
        "\n",
        "# Replace with the actual UTC offset of the ship's location\n",
        "utc_offset = 3  # Example UTC offset\n",
        "\n",
        "# Calculate sunrise and sunset based on the ship's current location\n",
        "sunrise, sunset = calculate_sunrise_sunset(current_lat, current_lon, utc_offset)\n",
        "\n",
        "# Check if it's daytime\n",
        "daytime = sunrise < datetime.utcnow() < sunset\n",
        "\n",
        "# Display an alert if the ship is in a forbidden area during daytime\n",
        "if in_no_go_zone and daytime:\n",
        "    print(\"Alert: The ship is in a forbidden area during daytime.\")\n",
        "else:\n",
        "    print(\"The ship is in a permitted area.\")\n"
      ],
      "metadata": {
        "colab": {
          "base_uri": "https://localhost:8080/"
        },
        "id": "eKSyLO2dfoRC",
        "outputId": "041e398f-a804-4e89-a56d-a8e2703ea2fa"
      },
      "execution_count": 5,
      "outputs": [
        {
          "output_type": "stream",
          "name": "stdout",
          "text": [
            "The ship is in a permitted area.\n"
          ]
        }
      ]
    },
    {
      "cell_type": "code",
      "source": [
        "def is_ship_en_route(course_change_angle):\n",
        "    \"\"\"\n",
        "    Checks if the ship is en route based on the course change angle.\n",
        "\n",
        "    :param course_change_angle: The angle representing the change in the ship's course.\n",
        "    :return: True if the ship is en route (course change angle less than 90 degrees), False otherwise.\n",
        "    \"\"\"\n",
        "    return abs(course_change_angle) < 90\n",
        "\n",
        "# Load the CSV file\n",
        "file_path = 'veri.csv'  # Replace with your CSV file path\n",
        "no_go_areas_df = pd.read_csv(file_path)\n",
        "\n",
        "# Create no-go zones\n",
        "no_go_zones = create_no_go_zones(no_go_areas_df)\n",
        "\n",
        "# Collect manual inputs\n",
        "manual_inputs = enter_manual_inputs()\n",
        "\n",
        "# Check if the ship is in a no-go zone and it's daytime\n",
        "# Use real-time GPS coordinates\n",
        "current_lat = 0  # Replace with real latitude\n",
        "current_lon = 0  # Replace with real longitude\n",
        "in_no_go_zone, zone_id = is_in_no_go_zone(current_lat, current_lon, no_go_zones)\n",
        "\n",
        "# Calculate sunrise and sunset\n",
        "utc_offset = 3  # Replace with the actual UTC offset of the ship's location\n",
        "sunrise, sunset = calculate_sunrise_sunset(current_lat, current_lon, utc_offset)\n",
        "\n",
        "# Check if it's daytime\n",
        "daytime = sunrise < datetime.utcnow() < sunset\n",
        "\n",
        "# Check if the ship is en route with a course change of less than 90 degrees\n",
        "course_change_angle = float(input(\"Enter the course change angle (in degrees): \"))\n",
        "en_route = is_ship_en_route(course_change_angle)\n",
        "\n",
        "# Display an alert if the ship is in a forbidden area during daytime and the course change is too high\n",
        "if in_no_go_zone and daytime and en_route:\n",
        "    print(\"Alert: The ship is in a forbidden area during daytime, and the course change is too high.\")\n",
        "else:\n",
        "    print(\"The ship is in a permitted area.\")\n"
      ],
      "metadata": {
        "colab": {
          "base_uri": "https://localhost:8080/"
        },
        "id": "iQdO6um-f5xc",
        "outputId": "207288cd-1b16-4aa6-f258-6ac0381f2638"
      },
      "execution_count": 6,
      "outputs": [
        {
          "output_type": "stream",
          "name": "stdout",
          "text": [
            "Enter the duration of the last oily water transfer to the slop tank (in hours): 45\n",
            "Was the company informed one day before the operation (yes/no)? yes\n",
            "Waited at least 24 hours for the settlement of the oily mixture (yes/no)? yes\n",
            "Enter the current wind speed (Beaufort scale): 34\n",
            "Enter the current sea height (Beaufort scale): 34\n",
            "Enter the current swell height (Beaufort scale): 34\n",
            "Enter the current ship rolling degree: 34\n",
            "Enter the initial quantity of the oily mixture: 34\n",
            "Enter the initial quantity of oil: 34\n",
            "Enter the total cargo carried: 34\n",
            "Was the ODME self-test carried out satisfactorily (yes/no)? yes\n",
            "Was the ODME zero calibration test carried out satisfactorily (yes/no)? yes\n",
            "Reset the total oil limit to zero. Only one time is allowed for each operation (yes/no)? yes\n",
            "Enter the oil type from the maker's manual: 34\n",
            "Enter the course change angle (in degrees): 34\n",
            "The ship is in a permitted area.\n"
          ]
        }
      ]
    },
    {
      "cell_type": "code",
      "source": [
        "from datetime import timedelta\n",
        "\n",
        "def calculate_operation_time(total_oily_mixture, discharge_rate):\n",
        "    \"\"\"\n",
        "    Calculates the operation time based on the total oily mixture and discharge rate.\n",
        "\n",
        "    :param total_oily_mixture: The total quantity of oily mixture available for discharge (in liters).\n",
        "    :param discharge_rate: The rate of discharge of oil content (in liters per hour).\n",
        "    :return: The estimated operation time as a timedelta object.\n",
        "    :raises ValueError: If discharge rate is not greater than zero.\n",
        "    \"\"\"\n",
        "    # Check if the discharge rate is valid\n",
        "    if discharge_rate <= 0:\n",
        "        raise ValueError(\"Discharge rate must be greater than zero.\")\n",
        "\n",
        "    # Calculate operation time in hours\n",
        "    operation_time_hours = total_oily_mixture / discharge_rate\n",
        "\n",
        "    # Convert operation time to timedelta object\n",
        "    operation_time = timedelta(hours=operation_time_hours)\n",
        "\n",
        "    return operation_time\n"
      ],
      "metadata": {
        "id": "uVUyY7pDgPM-"
      },
      "execution_count": 7,
      "outputs": []
    },
    {
      "cell_type": "code",
      "source": [
        "from datetime import datetime, timedelta\n",
        "\n",
        "# Get the course change angle from user input\n",
        "course_change_angle = float(input(\"Enter the course change angle (in degrees): \"))\n",
        "\n",
        "# Check if the ship is en route\n",
        "en_route = is_ship_en_route(course_change_angle)\n",
        "\n",
        "# Check if the ship is in a no-go zone, it's daytime, and it's en route\n",
        "if in_no_go_zone and daytime and en_route:\n",
        "    print(\"Alert: The ship is in a forbidden area during daytime and the course change is too high.\")\n",
        "else:\n",
        "    # Continue with the calculation of operation time\n",
        "\n",
        "    # Get discharge rate from ODME (in m³/h) from user input\n",
        "    discharge_rate = float(input(\"Enter the discharge rate from ODME (in m³/h): \"))\n",
        "\n",
        "    # Get the initial quantity of oily mixture from manual inputs\n",
        "    total_oily_mixture = manual_inputs['initial_quantity_oily_mixture']\n",
        "\n",
        "    try:\n",
        "        # Calculate the estimated operation time\n",
        "        operation_time = calculate_operation_time(total_oily_mixture, discharge_rate)\n",
        "        print(f\"Estimated operation time: {operation_time}\")\n",
        "    except ValueError as e:\n",
        "        print(f\"Error: {e}\")\n"
      ],
      "metadata": {
        "colab": {
          "base_uri": "https://localhost:8080/"
        },
        "id": "6ebwmlRbgUnH",
        "outputId": "9310d7d3-922b-4065-e557-1f23fda39e2e"
      },
      "execution_count": 8,
      "outputs": [
        {
          "output_type": "stream",
          "name": "stdout",
          "text": [
            "Enter the course change angle (in degrees): 35\n",
            "Enter the discharge rate from ODME (in m³/h): 23\n",
            "Estimated operation time: 1:28:41.739130\n"
          ]
        }
      ]
    },
    {
      "cell_type": "code",
      "source": [
        "def check_discharge_conditions(instantaneous_rate, total_discharged, cargo_quantity):\n",
        "    \"\"\"\n",
        "    Checks if the discharge conditions are met.\n",
        "\n",
        "    :param instantaneous_rate: Instantaneous rate of discharge in liters per nautical mile\n",
        "    :param total_discharged: Total quantity of oil discharged\n",
        "    :param cargo_quantity: Total quantity of the particular cargo\n",
        "    :return: True if conditions are met, False otherwise\n",
        "    \"\"\"\n",
        "    # Define the maximum allowed values\n",
        "    max_instantaneous_rate = 30  # Maximum instantaneous rate in liters per nautical mile\n",
        "    max_total_fraction = 1 / 30000  # Maximum fraction for the total quantity of oil discharged\n",
        "\n",
        "    # Check if the conditions are met\n",
        "    return instantaneous_rate <= max_instantaneous_rate or (total_discharged / cargo_quantity) <= max_total_fraction\n"
      ],
      "metadata": {
        "id": "DWbFdRVhgcnC"
      },
      "execution_count": 9,
      "outputs": []
    },
    {
      "cell_type": "code",
      "source": [
        "if in_no_go_zone and daytime and en_route:\n",
        "    # Alert if the ship is in a forbidden area during the daytime with a high course change\n",
        "    print(\"Alert: The ship is in a forbidden area during daytime and the course change is too high.\")\n",
        "else:\n",
        "    # Continue with the calculation of operation time and discharge conditions\n",
        "\n",
        "    # Get discharge rate from ODME (Oil Discharge Monitoring Equipment) in cubic meters per hour\n",
        "    discharge_rate = float(input(\"Enter the discharge rate from ODME (in m³/h): \"))\n",
        "\n",
        "    # Get the initial quantity of oily mixture from manual inputs\n",
        "    total_oily_mixture = manual_inputs['initial_quantity_oily_mixture']\n",
        "\n",
        "    try:\n",
        "        # Calculate the estimated operation time based on the total oily mixture and discharge rate\n",
        "        operation_time = calculate_operation_time(total_oily_mixture, discharge_rate)\n",
        "        print(f\"Estimated operation time: {operation_time}\")\n",
        "\n",
        "        # Assume ODME calculates these values in real-time\n",
        "        # Get the instantaneous rate of discharge in liters per nautical mile\n",
        "        instantaneous_rate = float(input(\"Enter the instantaneous rate of discharge (in liters per nautical mile): \"))\n",
        "\n",
        "        # Get the total quantity of oil discharged in liters\n",
        "        total_discharged = float(input(\"Enter the total quantity of oil discharged (in liters): \"))\n",
        "\n",
        "        # Get the total quantity of the particular cargo carried by the ship\n",
        "        cargo_quantity = manual_inputs['total_cargo_carried']\n",
        "\n",
        "        # Check discharge conditions using the check_discharge_conditions function\n",
        "        if check_discharge_conditions(instantaneous_rate, total_discharged, cargo_quantity):\n",
        "            print(\"Discharge conditions are met.\")\n",
        "        else:\n",
        "            print(\"Alert: Discharge conditions not met.\")\n",
        "    except ValueError as e:\n",
        "        # Handle the case where there's an error in the calculation\n",
        "        print(f\"Error: {e}\")\n"
      ],
      "metadata": {
        "colab": {
          "base_uri": "https://localhost:8080/"
        },
        "id": "Zs3-TCQtguqf",
        "outputId": "bf0a1ab2-78cf-432f-882d-c55f38e41ea8"
      },
      "execution_count": 10,
      "outputs": [
        {
          "output_type": "stream",
          "name": "stdout",
          "text": [
            "Enter the discharge rate from ODME (in m³/h): 23\n",
            "Estimated operation time: 1:28:41.739130\n",
            "Enter the instantaneous rate of discharge (in liters per nautical mile): 23\n",
            "Enter the total quantity of oil discharged (in liters): 23\n",
            "Discharge conditions are met.\n"
          ]
        }
      ]
    },
    {
      "cell_type": "code",
      "source": [
        "def time_to_no_go_zone(current_lat, current_lon, no_go_zones):\n",
        "    \"\"\"\n",
        "    Calculate the time it would take to reach the nearest no-go zone based on the ship's current position and speed.\n",
        "    \"\"\"\n",
        "    # Assume the ship's speed is 10 knots (replace with the actual speed)\n",
        "    ship_speed_knots = 10\n",
        "\n",
        "    # Calculate the distance to the nearest no-go zone\n",
        "    min_distance = float('inf')\n",
        "    for zone_id, zone in no_go_zones.items():\n",
        "        distance = zone.distance(Point(current_lon, current_lat))\n",
        "        if distance < min_distance:\n",
        "            min_distance = distance\n",
        "\n",
        "    # Calculate the time to reach the nearest no-go zone\n",
        "    time_to_reach = min_distance / (ship_speed_knots * 1.852)  # Conversion from knots to km/h\n",
        "\n",
        "    # Return the time as a timedelta object\n",
        "    return timedelta(hours=time_to_reach)\n"
      ],
      "metadata": {
        "id": "88eR5dXwgujm"
      },
      "execution_count": 11,
      "outputs": []
    },
    {
      "cell_type": "code",
      "source": [
        "def estimate_time_of_completion(operation_time, current_lat, current_lon, no_go_zones, utc_offset):\n",
        "    \"\"\"\n",
        "    Estimate the time of completion of the operation while considering the time it takes to reach the nearest no-go zone.\n",
        "    \"\"\"\n",
        "    # Get the current UTC time\n",
        "    current_utc_time = datetime.utcnow()\n",
        "\n",
        "    # Calculate the time to reach the nearest no-go zone\n",
        "    time_to_reach_no_go = time_to_no_go_zone(current_lat, current_lon, no_go_zones)\n",
        "\n",
        "    # Adjust UTC time to the ship's local time\n",
        "    current_local_time = current_utc_time + timedelta(hours=utc_offset)\n",
        "\n",
        "    # Estimate the time of completion\n",
        "    time_of_completion_utc = current_local_time + operation_time + time_to_reach_no_go\n",
        "\n",
        "    # Return the estimated time of completion as a timedelta object\n",
        "    return time_of_completion_utc - current_utc_time\n"
      ],
      "metadata": {
        "id": "JHkjW-vOg9kc"
      },
      "execution_count": 12,
      "outputs": []
    },
    {
      "cell_type": "code",
      "source": [
        "if in_no_go_zone and daytime and en_route:\n",
        "    print(\"Alert: The ship is in a forbidden area during daytime, and the course change is too high.\")\n",
        "else:\n",
        "    # Continue with the calculation of operation time and discharge conditions\n",
        "    discharge_rate = float(input(\"Enter the discharge rate from ODME (in m³/h): \"))\n",
        "    total_oily_mixture = manual_inputs['initial_quantity_oily_mixture']\n",
        "\n",
        "    try:\n",
        "        # Calculate operation time\n",
        "        operation_time = calculate_operation_time(total_oily_mixture, discharge_rate)\n",
        "\n",
        "        # Check if operation time allows completion before reaching no-go areas\n",
        "        if in_no_go_zone and operation_time > time_to_no_go_zone(current_lat, current_lon, no_go_zones):\n",
        "            print(\"Alert: Operation cannot be completed before reaching a forbidden area.\")\n",
        "        else:\n",
        "            print(f\"Estimated operation time: {operation_time}\")\n",
        "\n",
        "            # Estimate time of completion while still in daylight\n",
        "            time_to_complete = estimate_time_of_completion(operation_time, current_lat, current_lon, no_go_zones, utc_offset)\n",
        "\n",
        "            if time_to_complete > sunset - datetime.utcnow():\n",
        "                print(\"Alert: Operation may extend into nighttime.\")\n",
        "            else:\n",
        "                print(f\"Estimated time of completion: {datetime.utcnow() + time_to_complete}\")\n",
        "\n",
        "            # Assume ODME calculates these values\n",
        "            instantaneous_rate = float(input(\"Enter the instantaneous rate of discharge (in liters per nautical mile): \"))\n",
        "            total_discharged = float(input(\"Enter the total quantity of oil discharged (in liters): \"))\n",
        "            cargo_quantity = manual_inputs['total_cargo_carried']\n",
        "\n",
        "            # Check discharge conditions\n",
        "            if check_discharge_conditions(instantaneous_rate, total_discharged, cargo_quantity):\n",
        "                print(\"Discharge conditions are met.\")\n",
        "            else:\n",
        "                print(\"Alert: Discharge conditions not met.\")\n",
        "    except ValueError as e:\n",
        "        print(f\"Error: {e}\")\n"
      ],
      "metadata": {
        "colab": {
          "base_uri": "https://localhost:8080/"
        },
        "id": "Bd5GNasAhEN0",
        "outputId": "375fd62c-8b7b-4a92-bdc3-1f19a99666b7"
      },
      "execution_count": 13,
      "outputs": [
        {
          "output_type": "stream",
          "name": "stdout",
          "text": [
            "Enter the discharge rate from ODME (in m³/h): 23\n",
            "Estimated operation time: 1:28:41.739130\n",
            "Estimated time of completion: 2023-11-25 22:08:48.570734\n",
            "Enter the instantaneous rate of discharge (in liters per nautical mile): 23\n",
            "Enter the total quantity of oil discharged (in liters): 23\n",
            "Discharge conditions are met.\n"
          ]
        }
      ]
    }
  ]
}